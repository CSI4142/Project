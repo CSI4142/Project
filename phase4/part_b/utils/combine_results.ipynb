{
 "cells": [
  {
   "cell_type": "markdown",
   "metadata": {},
   "source": [
    "# Combined Model Results\n",
    "\n",
    "This notebook is used to generate a combined CSV file containing results for all three models of Part B.\n",
    "\n",
    "A HTML file is also created which could be used later to generate a PDF file for Part B.2 consisting of a table containing the (i) accuracy, (ii) precision, (iii) recall and (iv) time to construct of models."
   ]
  },
  {
   "cell_type": "code",
   "execution_count": 19,
   "metadata": {},
   "outputs": [],
   "source": [
    "# dependencies\n",
    "import os\n",
    "import pandas as pd\n",
    "\n",
    "# directory where the results are stored\n",
    "results_dir = \"../model_results/\"\n",
    "output_dir = \"../model_results/combined_results/\"\n",
    "results_csv = output_dir + \"results.csv\"\n",
    "results_html = output_dir + \"results.html\""
   ]
  },
  {
   "cell_type": "code",
   "execution_count": 20,
   "metadata": {},
   "outputs": [
    {
     "data": {
      "text/html": [
       "<div>\n",
       "<style scoped>\n",
       "    .dataframe tbody tr th:only-of-type {\n",
       "        vertical-align: middle;\n",
       "    }\n",
       "\n",
       "    .dataframe tbody tr th {\n",
       "        vertical-align: top;\n",
       "    }\n",
       "\n",
       "    .dataframe thead th {\n",
       "        text-align: right;\n",
       "    }\n",
       "</style>\n",
       "<table border=\"1\" class=\"dataframe\">\n",
       "  <thead>\n",
       "    <tr style=\"text-align: right;\">\n",
       "      <th></th>\n",
       "      <th>Model</th>\n",
       "      <th>Accuracy</th>\n",
       "      <th>Precision</th>\n",
       "      <th>Recall</th>\n",
       "      <th>Training Time</th>\n",
       "      <th>F1 score</th>\n",
       "    </tr>\n",
       "  </thead>\n",
       "  <tbody>\n",
       "    <tr>\n",
       "      <th>0</th>\n",
       "      <td>Gradient Boosting</td>\n",
       "      <td>0.998333</td>\n",
       "      <td>0.996689</td>\n",
       "      <td>0.995041</td>\n",
       "      <td>0.704462</td>\n",
       "      <td>0.995864</td>\n",
       "    </tr>\n",
       "    <tr>\n",
       "      <th>0</th>\n",
       "      <td>Decision Tree</td>\n",
       "      <td>0.996333</td>\n",
       "      <td>0.988836</td>\n",
       "      <td>0.993590</td>\n",
       "      <td>0.011390</td>\n",
       "      <td>0.991207</td>\n",
       "    </tr>\n",
       "    <tr>\n",
       "      <th>0</th>\n",
       "      <td>Random Forest</td>\n",
       "      <td>0.998000</td>\n",
       "      <td>0.993496</td>\n",
       "      <td>0.996737</td>\n",
       "      <td>0.149507</td>\n",
       "      <td>0.995114</td>\n",
       "    </tr>\n",
       "  </tbody>\n",
       "</table>\n",
       "</div>"
      ],
      "text/plain": [
       "               Model  Accuracy  Precision    Recall  Training Time  F1 score\n",
       "0  Gradient Boosting  0.998333   0.996689  0.995041       0.704462  0.995864\n",
       "0      Decision Tree  0.996333   0.988836  0.993590       0.011390  0.991207\n",
       "0      Random Forest  0.998000   0.993496  0.996737       0.149507  0.995114"
      ]
     },
     "execution_count": 20,
     "metadata": {},
     "output_type": "execute_result"
    }
   ],
   "source": [
    "\n",
    "# list to store the dataframes\n",
    "df_results = []\n",
    "# for each file in the results directory, read the csv file and append it to the df_results list\n",
    "for file in os.listdir(results_dir):\n",
    "    if file.endswith(\".csv\") and not file.startswith(\"[\"):\n",
    "        df_results.append(pd.read_csv(results_dir + file))\n",
    "# concatenate all the dataframes in the df_results list\n",
    "df_results = pd.concat(df_results)\n",
    "df_results"
   ]
  },
  {
   "cell_type": "code",
   "execution_count": 21,
   "metadata": {},
   "outputs": [],
   "source": [
    "# save dataframe into CSV file\n",
    "df_results.to_csv(results_csv, index=False)\n",
    "\n",
    "# save dataframe into HTML file\n",
    "df_results.to_html(results_html, index=False)"
   ]
  }
 ],
 "metadata": {
  "kernelspec": {
   "display_name": ".venv",
   "language": "python",
   "name": "python3"
  },
  "language_info": {
   "codemirror_mode": {
    "name": "ipython",
    "version": 3
   },
   "file_extension": ".py",
   "mimetype": "text/x-python",
   "name": "python",
   "nbconvert_exporter": "python",
   "pygments_lexer": "ipython3",
   "version": "3.11.5"
  }
 },
 "nbformat": 4,
 "nbformat_minor": 2
}
