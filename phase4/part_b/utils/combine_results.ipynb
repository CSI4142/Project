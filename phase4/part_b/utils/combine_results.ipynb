{
 "cells": [
  {
   "cell_type": "markdown",
   "metadata": {},
   "source": [
    "# Combined Model Results\n",
    "\n",
    "This notebook is used to generate a combined CSV file containing results for all three models of Part B.\n",
    "\n",
    "A HTML file is also created which could be used later to generate a PDF file for Part B.2 consisting of a table containing the (i) accuracy, (ii) precision, (iii) recall and (iv) time to construct of models."
   ]
  },
  {
   "cell_type": "code",
   "execution_count": 4,
   "metadata": {},
   "outputs": [],
   "source": [
    "# dependencies\n",
    "import os\n",
    "import pandas as pd\n",
    "\n",
    "# directory where the results are stored\n",
    "results_dir = \"../model_results/\"\n",
    "output_dir = \"../model_results/combined_results/\"\n",
    "results_csv = output_dir + \"results.csv\"\n",
    "results_html = output_dir + \"results.html\""
   ]
  },
  {
   "cell_type": "code",
   "execution_count": 5,
   "metadata": {},
   "outputs": [
    {
     "data": {
      "text/html": [
       "<div>\n",
       "<style scoped>\n",
       "    .dataframe tbody tr th:only-of-type {\n",
       "        vertical-align: middle;\n",
       "    }\n",
       "\n",
       "    .dataframe tbody tr th {\n",
       "        vertical-align: top;\n",
       "    }\n",
       "\n",
       "    .dataframe thead th {\n",
       "        text-align: right;\n",
       "    }\n",
       "</style>\n",
       "<table border=\"1\" class=\"dataframe\">\n",
       "  <thead>\n",
       "    <tr style=\"text-align: right;\">\n",
       "      <th></th>\n",
       "      <th>Model</th>\n",
       "      <th>Accuracy</th>\n",
       "      <th>Precision</th>\n",
       "      <th>Recall</th>\n",
       "      <th>Training Time</th>\n",
       "    </tr>\n",
       "  </thead>\n",
       "  <tbody>\n",
       "    <tr>\n",
       "      <th>0</th>\n",
       "      <td>Random Forest</td>\n",
       "      <td>0.998667</td>\n",
       "      <td>0.993311</td>\n",
       "      <td>1.0</td>\n",
       "      <td>0.159419</td>\n",
       "    </tr>\n",
       "  </tbody>\n",
       "</table>\n",
       "</div>"
      ],
      "text/plain": [
       "           Model  Accuracy  Precision  Recall  Training Time\n",
       "0  Random Forest  0.998667   0.993311     1.0       0.159419"
      ]
     },
     "execution_count": 5,
     "metadata": {},
     "output_type": "execute_result"
    }
   ],
   "source": [
    "\n",
    "# list to store the dataframes\n",
    "df_results = []\n",
    "# for each file in the results directory, read the csv file and append it to the df_results list\n",
    "for file in os.listdir(results_dir):\n",
    "    if file.endswith(\".csv\"):\n",
    "        df_results.append(pd.read_csv(results_dir + file))\n",
    "# concatenate all the dataframes in the df_results list\n",
    "df_results = pd.concat(df_results)\n",
    "df_results"
   ]
  },
  {
   "cell_type": "code",
   "execution_count": 6,
   "metadata": {},
   "outputs": [],
   "source": [
    "# save dataframe into CSV file\n",
    "df_results.to_csv(results_csv, index=False)\n",
    "\n",
    "# save dataframe into HTML file\n",
    "df_results.to_html(results_html, index=False)"
   ]
  }
 ],
 "metadata": {
  "kernelspec": {
   "display_name": ".venv",
   "language": "python",
   "name": "python3"
  },
  "language_info": {
   "codemirror_mode": {
    "name": "ipython",
    "version": 3
   },
   "file_extension": ".py",
   "mimetype": "text/x-python",
   "name": "python",
   "nbconvert_exporter": "python",
   "pygments_lexer": "ipython3",
   "version": "3.12.2"
  }
 },
 "nbformat": 4,
 "nbformat_minor": 2
}
